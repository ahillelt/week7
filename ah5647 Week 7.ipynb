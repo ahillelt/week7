{
 "cells": [
  {
   "cell_type": "markdown",
   "id": "5913f2ca",
   "metadata": {},
   "source": [
    "Alon Hillel-Tuch\n",
    "ah5647"
   ]
  },
  {
   "cell_type": "markdown",
   "id": "cf47d98d",
   "metadata": {},
   "source": [
    "#### Notes for Grader"
   ]
  },
  {
   "cell_type": "markdown",
   "id": "1002d3dc",
   "metadata": {},
   "source": [
    "I am performing similar pre-processing work as done in the Week 6 assignment. I am putting descriptors where appropriate, but am not going into the same level of explanation for the pre-processing steps as I did for the previous assignment since the dataset and steps are nearly identical. My main focus here is on analyzing the differences between using AdaBoost and not on the decision tree model with either entropy or gini criterion. Further analysis including hyper parameter tuning included at the end. Thanks so much! - Alon"
   ]
  },
  {
   "cell_type": "markdown",
   "id": "e4e7e61d",
   "metadata": {},
   "source": [
    "We also performed some extra work hyper parameter tuning the original decision tree and adaboost parameters. We found an optimal configuration based on the pre-processing we did. \n",
    "\n",
    "- decision tree Criterion: Entropy\n",
    "- min_samples_leaf = 3\n",
    "- max_depth = \n",
    "\n",
    "- adaboost learning-rate = 1.6\n",
    "- adaboost n_estimators = 1000\n",
    "\n",
    "We achieved the following progressive improvements in test accuracy:\n",
    "- initial entropy decision tree (max accuracy from set of max_depth): 96.03\n",
    "- adaboost applied: 98.43\n",
    "- hyper parameter tuning: 98.80\n",
    "\n",
    "do note we are overfitting with the training accuracy being 100, however even with some overfitting, we were able to marginally improve our prediction accuracy on the test set with careful tuning. As a whole, using adaboost on this specific dataset provides for dramatic improvements in accuracy, and at the same time reduces the likelihood of overfitting. "
   ]
  },
  {
   "cell_type": "markdown",
   "id": "6ca68ce1",
   "metadata": {},
   "source": [
    "#### Pre-Processing and imports"
   ]
  },
  {
   "cell_type": "code",
   "execution_count": 1,
   "id": "cae9da4d",
   "metadata": {},
   "outputs": [],
   "source": [
    "# Imports\n",
    "import numpy as np\n",
    "import pandas as pd\n",
    "from sklearn.tree import DecisionTreeClassifier\n",
    "from sklearn.metrics import accuracy_score\n",
    "from sklearn import tree\n",
    "from sklearn.model_selection import train_test_split\n",
    "\n",
    "from sklearn.ensemble import AdaBoostClassifier\n",
    "\n",
    "\n",
    "import matplotlib.pyplot as plt\n",
    "import graphviz\n",
    "\n",
    "import math"
   ]
  },
  {
   "cell_type": "code",
   "execution_count": 2,
   "id": "07c049da",
   "metadata": {},
   "outputs": [],
   "source": [
    "# Reading Data\n",
    "df = pd.read_csv('../Week 7/DataSetForPhishingVSBenignUrl.csv')"
   ]
  },
  {
   "cell_type": "code",
   "execution_count": 3,
   "id": "04efa424",
   "metadata": {},
   "outputs": [
    {
     "name": "stdout",
     "output_type": "stream",
     "text": [
      "Number of Samples:  36707\n",
      "Number of features:  80\n"
     ]
    }
   ],
   "source": [
    "# Analyzing data\n",
    "print(\"Number of Samples: \", df.shape[0])\n",
    "print(\"Number of features: \", df.shape[1])"
   ]
  },
  {
   "cell_type": "code",
   "execution_count": 4,
   "id": "ff367c45",
   "metadata": {},
   "outputs": [
    {
     "data": {
      "text/html": [
       "<div>\n",
       "<style scoped>\n",
       "    .dataframe tbody tr th:only-of-type {\n",
       "        vertical-align: middle;\n",
       "    }\n",
       "\n",
       "    .dataframe tbody tr th {\n",
       "        vertical-align: top;\n",
       "    }\n",
       "\n",
       "    .dataframe thead th {\n",
       "        text-align: right;\n",
       "    }\n",
       "</style>\n",
       "<table border=\"1\" class=\"dataframe\">\n",
       "  <thead>\n",
       "    <tr style=\"text-align: right;\">\n",
       "      <th></th>\n",
       "      <th>Querylength</th>\n",
       "      <th>domain_token_count</th>\n",
       "      <th>path_token_count</th>\n",
       "      <th>avgdomaintokenlen</th>\n",
       "      <th>longdomaintokenlen</th>\n",
       "      <th>avgpathtokenlen</th>\n",
       "      <th>tld</th>\n",
       "      <th>charcompvowels</th>\n",
       "      <th>charcompace</th>\n",
       "      <th>ldl_url</th>\n",
       "      <th>...</th>\n",
       "      <th>SymbolCount_FileName</th>\n",
       "      <th>SymbolCount_Extension</th>\n",
       "      <th>SymbolCount_Afterpath</th>\n",
       "      <th>Entropy_URL</th>\n",
       "      <th>Entropy_Domain</th>\n",
       "      <th>Entropy_DirectoryName</th>\n",
       "      <th>Entropy_Filename</th>\n",
       "      <th>Entropy_Extension</th>\n",
       "      <th>Entropy_Afterpath</th>\n",
       "      <th>URL_Type_obf_Type</th>\n",
       "    </tr>\n",
       "  </thead>\n",
       "  <tbody>\n",
       "    <tr>\n",
       "      <th>0</th>\n",
       "      <td>0</td>\n",
       "      <td>4</td>\n",
       "      <td>5</td>\n",
       "      <td>5.5</td>\n",
       "      <td>14</td>\n",
       "      <td>4.400000</td>\n",
       "      <td>4</td>\n",
       "      <td>8</td>\n",
       "      <td>3</td>\n",
       "      <td>0</td>\n",
       "      <td>...</td>\n",
       "      <td>1</td>\n",
       "      <td>0</td>\n",
       "      <td>-1</td>\n",
       "      <td>0.726298</td>\n",
       "      <td>0.784493</td>\n",
       "      <td>0.894886</td>\n",
       "      <td>0.850608</td>\n",
       "      <td>NaN</td>\n",
       "      <td>-1.0</td>\n",
       "      <td>Defacement</td>\n",
       "    </tr>\n",
       "    <tr>\n",
       "      <th>1</th>\n",
       "      <td>0</td>\n",
       "      <td>4</td>\n",
       "      <td>5</td>\n",
       "      <td>5.5</td>\n",
       "      <td>14</td>\n",
       "      <td>6.000000</td>\n",
       "      <td>4</td>\n",
       "      <td>12</td>\n",
       "      <td>4</td>\n",
       "      <td>0</td>\n",
       "      <td>...</td>\n",
       "      <td>0</td>\n",
       "      <td>0</td>\n",
       "      <td>-1</td>\n",
       "      <td>0.688635</td>\n",
       "      <td>0.784493</td>\n",
       "      <td>0.814725</td>\n",
       "      <td>0.859793</td>\n",
       "      <td>0.0</td>\n",
       "      <td>-1.0</td>\n",
       "      <td>Defacement</td>\n",
       "    </tr>\n",
       "    <tr>\n",
       "      <th>2</th>\n",
       "      <td>0</td>\n",
       "      <td>4</td>\n",
       "      <td>5</td>\n",
       "      <td>5.5</td>\n",
       "      <td>14</td>\n",
       "      <td>5.800000</td>\n",
       "      <td>4</td>\n",
       "      <td>12</td>\n",
       "      <td>5</td>\n",
       "      <td>0</td>\n",
       "      <td>...</td>\n",
       "      <td>0</td>\n",
       "      <td>0</td>\n",
       "      <td>-1</td>\n",
       "      <td>0.695049</td>\n",
       "      <td>0.784493</td>\n",
       "      <td>0.814725</td>\n",
       "      <td>0.801880</td>\n",
       "      <td>0.0</td>\n",
       "      <td>-1.0</td>\n",
       "      <td>Defacement</td>\n",
       "    </tr>\n",
       "    <tr>\n",
       "      <th>3</th>\n",
       "      <td>0</td>\n",
       "      <td>4</td>\n",
       "      <td>12</td>\n",
       "      <td>5.5</td>\n",
       "      <td>14</td>\n",
       "      <td>5.500000</td>\n",
       "      <td>4</td>\n",
       "      <td>32</td>\n",
       "      <td>16</td>\n",
       "      <td>0</td>\n",
       "      <td>...</td>\n",
       "      <td>0</td>\n",
       "      <td>0</td>\n",
       "      <td>-1</td>\n",
       "      <td>0.640130</td>\n",
       "      <td>0.784493</td>\n",
       "      <td>0.814725</td>\n",
       "      <td>0.663210</td>\n",
       "      <td>0.0</td>\n",
       "      <td>-1.0</td>\n",
       "      <td>Defacement</td>\n",
       "    </tr>\n",
       "    <tr>\n",
       "      <th>4</th>\n",
       "      <td>0</td>\n",
       "      <td>4</td>\n",
       "      <td>6</td>\n",
       "      <td>5.5</td>\n",
       "      <td>14</td>\n",
       "      <td>7.333334</td>\n",
       "      <td>4</td>\n",
       "      <td>18</td>\n",
       "      <td>11</td>\n",
       "      <td>0</td>\n",
       "      <td>...</td>\n",
       "      <td>0</td>\n",
       "      <td>0</td>\n",
       "      <td>-1</td>\n",
       "      <td>0.681307</td>\n",
       "      <td>0.784493</td>\n",
       "      <td>0.814725</td>\n",
       "      <td>0.804526</td>\n",
       "      <td>0.0</td>\n",
       "      <td>-1.0</td>\n",
       "      <td>Defacement</td>\n",
       "    </tr>\n",
       "  </tbody>\n",
       "</table>\n",
       "<p>5 rows × 80 columns</p>\n",
       "</div>"
      ],
      "text/plain": [
       "   Querylength  domain_token_count  path_token_count  avgdomaintokenlen  \\\n",
       "0            0                   4                 5                5.5   \n",
       "1            0                   4                 5                5.5   \n",
       "2            0                   4                 5                5.5   \n",
       "3            0                   4                12                5.5   \n",
       "4            0                   4                 6                5.5   \n",
       "\n",
       "   longdomaintokenlen  avgpathtokenlen  tld  charcompvowels  charcompace  \\\n",
       "0                  14         4.400000    4               8            3   \n",
       "1                  14         6.000000    4              12            4   \n",
       "2                  14         5.800000    4              12            5   \n",
       "3                  14         5.500000    4              32           16   \n",
       "4                  14         7.333334    4              18           11   \n",
       "\n",
       "   ldl_url  ...  SymbolCount_FileName  SymbolCount_Extension  \\\n",
       "0        0  ...                     1                      0   \n",
       "1        0  ...                     0                      0   \n",
       "2        0  ...                     0                      0   \n",
       "3        0  ...                     0                      0   \n",
       "4        0  ...                     0                      0   \n",
       "\n",
       "   SymbolCount_Afterpath  Entropy_URL  Entropy_Domain  Entropy_DirectoryName  \\\n",
       "0                     -1     0.726298        0.784493               0.894886   \n",
       "1                     -1     0.688635        0.784493               0.814725   \n",
       "2                     -1     0.695049        0.784493               0.814725   \n",
       "3                     -1     0.640130        0.784493               0.814725   \n",
       "4                     -1     0.681307        0.784493               0.814725   \n",
       "\n",
       "   Entropy_Filename  Entropy_Extension  Entropy_Afterpath  URL_Type_obf_Type  \n",
       "0          0.850608                NaN               -1.0         Defacement  \n",
       "1          0.859793                0.0               -1.0         Defacement  \n",
       "2          0.801880                0.0               -1.0         Defacement  \n",
       "3          0.663210                0.0               -1.0         Defacement  \n",
       "4          0.804526                0.0               -1.0         Defacement  \n",
       "\n",
       "[5 rows x 80 columns]"
      ]
     },
     "execution_count": 4,
     "metadata": {},
     "output_type": "execute_result"
    }
   ],
   "source": [
    "#sanity check\n",
    "df.head()"
   ]
  },
  {
   "cell_type": "markdown",
   "id": "52773bb0",
   "metadata": {},
   "source": [
    "Similar to previous assignment. We performed an analysis then on dropping NAN entries entirely and concluded it is 'okay' to do for this specific data set. Do note, that this does mean if we are provided data upon which to make a prediction that includes a NAN feature, we would either assign it an agreed upon value (such as 0) or perhaps the mean of all other non-NAN values.  "
   ]
  },
  {
   "cell_type": "code",
   "execution_count": 5,
   "id": "76901b14",
   "metadata": {},
   "outputs": [
    {
     "name": "stdout",
     "output_type": "stream",
     "text": [
      "Number of Samples:  18982\n",
      "Number of features:  80\n"
     ]
    }
   ],
   "source": [
    "df2=df.dropna().reset_index(drop=True)\n",
    "# Analyzing data change\n",
    "print(\"Number of Samples: \", df2.shape[0])\n",
    "print(\"Number of features: \", df2.shape[1])\n",
    "\n",
    "# a drop is about 48% of the dataset"
   ]
  },
  {
   "cell_type": "code",
   "execution_count": 6,
   "id": "e8341ab9",
   "metadata": {},
   "outputs": [
    {
     "name": "stdout",
     "output_type": "stream",
     "text": [
      "['Defacement' 'benign' 'malware' 'phishing' 'spam']\n"
     ]
    }
   ],
   "source": [
    "#storing for future graphing purposes if we want to plot general classifications\n",
    "feature_names = df2.columns[:-1]\n",
    "class_names = df2.URL_Type_obf_Type.unique()\n",
    "\n",
    "print(class_names)\n",
    "#print(feature_names)"
   ]
  },
  {
   "cell_type": "code",
   "execution_count": 7,
   "id": "d2bd84bf",
   "metadata": {},
   "outputs": [
    {
     "name": "stdout",
     "output_type": "stream",
     "text": [
      "['benign' 'phishing']\n"
     ]
    }
   ],
   "source": [
    "#we are just looking at fishing vs benign as per professor. Disable this cell if you want to run against all classes\n",
    "\n",
    "#either method below should work\n",
    "#remove_list= ['Defacement','malware','spam']\n",
    "#df = df[~df['URL_Type_obf_Type'].isin(remove_list)]\n",
    "df2.query(\"URL_Type_obf_Type in ('benign', 'phishing')\",inplace=True)\n",
    "df2.reset_index(drop=True)\n",
    "\n",
    "#only our class list\n",
    "class_names = df2.URL_Type_obf_Type.unique()\n",
    "print(class_names)\n",
    "#print(feature_names)"
   ]
  },
  {
   "cell_type": "markdown",
   "id": "ddb1d604",
   "metadata": {},
   "source": [
    "Storing our dataset features (X) and classification (y)"
   ]
  },
  {
   "cell_type": "code",
   "execution_count": 8,
   "id": "a51d3307",
   "metadata": {},
   "outputs": [],
   "source": [
    "X = df2.values[:, :-1]\n",
    "y = df2.values[:,-1]"
   ]
  },
  {
   "cell_type": "code",
   "execution_count": 9,
   "id": "20d5f403",
   "metadata": {},
   "outputs": [
    {
     "data": {
      "text/html": [
       "<div>\n",
       "<style scoped>\n",
       "    .dataframe tbody tr th:only-of-type {\n",
       "        vertical-align: middle;\n",
       "    }\n",
       "\n",
       "    .dataframe tbody tr th {\n",
       "        vertical-align: top;\n",
       "    }\n",
       "\n",
       "    .dataframe thead th {\n",
       "        text-align: right;\n",
       "    }\n",
       "</style>\n",
       "<table border=\"1\" class=\"dataframe\">\n",
       "  <thead>\n",
       "    <tr style=\"text-align: right;\">\n",
       "      <th></th>\n",
       "      <th>0</th>\n",
       "      <th>1</th>\n",
       "      <th>2</th>\n",
       "      <th>3</th>\n",
       "      <th>4</th>\n",
       "      <th>5</th>\n",
       "      <th>6</th>\n",
       "      <th>7</th>\n",
       "      <th>8</th>\n",
       "      <th>9</th>\n",
       "      <th>...</th>\n",
       "      <th>69</th>\n",
       "      <th>70</th>\n",
       "      <th>71</th>\n",
       "      <th>72</th>\n",
       "      <th>73</th>\n",
       "      <th>74</th>\n",
       "      <th>75</th>\n",
       "      <th>76</th>\n",
       "      <th>77</th>\n",
       "      <th>78</th>\n",
       "    </tr>\n",
       "  </thead>\n",
       "  <tbody>\n",
       "    <tr>\n",
       "      <th>0</th>\n",
       "      <td>0</td>\n",
       "      <td>2</td>\n",
       "      <td>12</td>\n",
       "      <td>5.5</td>\n",
       "      <td>8</td>\n",
       "      <td>4.083334</td>\n",
       "      <td>2</td>\n",
       "      <td>15</td>\n",
       "      <td>7</td>\n",
       "      <td>0</td>\n",
       "      <td>...</td>\n",
       "      <td>-1</td>\n",
       "      <td>-1</td>\n",
       "      <td>-1</td>\n",
       "      <td>-1</td>\n",
       "      <td>0.676804</td>\n",
       "      <td>0.860529</td>\n",
       "      <td>-1.0</td>\n",
       "      <td>-1.0</td>\n",
       "      <td>-1.0</td>\n",
       "      <td>-1.0</td>\n",
       "    </tr>\n",
       "    <tr>\n",
       "      <th>1</th>\n",
       "      <td>0</td>\n",
       "      <td>3</td>\n",
       "      <td>12</td>\n",
       "      <td>5.0</td>\n",
       "      <td>10</td>\n",
       "      <td>3.583333</td>\n",
       "      <td>3</td>\n",
       "      <td>12</td>\n",
       "      <td>8</td>\n",
       "      <td>2</td>\n",
       "      <td>...</td>\n",
       "      <td>2</td>\n",
       "      <td>1</td>\n",
       "      <td>0</td>\n",
       "      <td>-1</td>\n",
       "      <td>0.715629</td>\n",
       "      <td>0.776796</td>\n",
       "      <td>0.693127</td>\n",
       "      <td>0.738315</td>\n",
       "      <td>1.0</td>\n",
       "      <td>-1.0</td>\n",
       "    </tr>\n",
       "    <tr>\n",
       "      <th>2</th>\n",
       "      <td>19</td>\n",
       "      <td>2</td>\n",
       "      <td>10</td>\n",
       "      <td>6.0</td>\n",
       "      <td>9</td>\n",
       "      <td>2.25</td>\n",
       "      <td>2</td>\n",
       "      <td>9</td>\n",
       "      <td>5</td>\n",
       "      <td>0</td>\n",
       "      <td>...</td>\n",
       "      <td>1</td>\n",
       "      <td>5</td>\n",
       "      <td>4</td>\n",
       "      <td>3</td>\n",
       "      <td>0.747202</td>\n",
       "      <td>0.8337</td>\n",
       "      <td>0.655459</td>\n",
       "      <td>0.829535</td>\n",
       "      <td>0.83615</td>\n",
       "      <td>0.823008</td>\n",
       "    </tr>\n",
       "    <tr>\n",
       "      <th>3</th>\n",
       "      <td>0</td>\n",
       "      <td>2</td>\n",
       "      <td>10</td>\n",
       "      <td>5.5</td>\n",
       "      <td>9</td>\n",
       "      <td>4.1</td>\n",
       "      <td>2</td>\n",
       "      <td>15</td>\n",
       "      <td>11</td>\n",
       "      <td>0</td>\n",
       "      <td>...</td>\n",
       "      <td>-1</td>\n",
       "      <td>-1</td>\n",
       "      <td>-1</td>\n",
       "      <td>-1</td>\n",
       "      <td>0.732981</td>\n",
       "      <td>0.860529</td>\n",
       "      <td>-1.0</td>\n",
       "      <td>-1.0</td>\n",
       "      <td>-1.0</td>\n",
       "      <td>-1.0</td>\n",
       "    </tr>\n",
       "    <tr>\n",
       "      <th>4</th>\n",
       "      <td>0</td>\n",
       "      <td>2</td>\n",
       "      <td>9</td>\n",
       "      <td>2.5</td>\n",
       "      <td>3</td>\n",
       "      <td>4.555555</td>\n",
       "      <td>2</td>\n",
       "      <td>6</td>\n",
       "      <td>3</td>\n",
       "      <td>0</td>\n",
       "      <td>...</td>\n",
       "      <td>5</td>\n",
       "      <td>1</td>\n",
       "      <td>0</td>\n",
       "      <td>-1</td>\n",
       "      <td>0.742606</td>\n",
       "      <td>1.0</td>\n",
       "      <td>0.785719</td>\n",
       "      <td>0.808833</td>\n",
       "      <td>1.0</td>\n",
       "      <td>-1.0</td>\n",
       "    </tr>\n",
       "    <tr>\n",
       "      <th>...</th>\n",
       "      <td>...</td>\n",
       "      <td>...</td>\n",
       "      <td>...</td>\n",
       "      <td>...</td>\n",
       "      <td>...</td>\n",
       "      <td>...</td>\n",
       "      <td>...</td>\n",
       "      <td>...</td>\n",
       "      <td>...</td>\n",
       "      <td>...</td>\n",
       "      <td>...</td>\n",
       "      <td>...</td>\n",
       "      <td>...</td>\n",
       "      <td>...</td>\n",
       "      <td>...</td>\n",
       "      <td>...</td>\n",
       "      <td>...</td>\n",
       "      <td>...</td>\n",
       "      <td>...</td>\n",
       "      <td>...</td>\n",
       "      <td>...</td>\n",
       "    </tr>\n",
       "    <tr>\n",
       "      <th>6718</th>\n",
       "      <td>0</td>\n",
       "      <td>2</td>\n",
       "      <td>5</td>\n",
       "      <td>5.5</td>\n",
       "      <td>8</td>\n",
       "      <td>2.8</td>\n",
       "      <td>2</td>\n",
       "      <td>5</td>\n",
       "      <td>1</td>\n",
       "      <td>0</td>\n",
       "      <td>...</td>\n",
       "      <td>2</td>\n",
       "      <td>1</td>\n",
       "      <td>0</td>\n",
       "      <td>-1</td>\n",
       "      <td>0.734789</td>\n",
       "      <td>0.95351</td>\n",
       "      <td>0.693127</td>\n",
       "      <td>1.0</td>\n",
       "      <td>1.0</td>\n",
       "      <td>-1.0</td>\n",
       "    </tr>\n",
       "    <tr>\n",
       "      <th>6719</th>\n",
       "      <td>0</td>\n",
       "      <td>2</td>\n",
       "      <td>5</td>\n",
       "      <td>3.5</td>\n",
       "      <td>5</td>\n",
       "      <td>3.6</td>\n",
       "      <td>2</td>\n",
       "      <td>5</td>\n",
       "      <td>2</td>\n",
       "      <td>0</td>\n",
       "      <td>...</td>\n",
       "      <td>2</td>\n",
       "      <td>1</td>\n",
       "      <td>0</td>\n",
       "      <td>-1</td>\n",
       "      <td>0.793129</td>\n",
       "      <td>0.916667</td>\n",
       "      <td>0.859582</td>\n",
       "      <td>1.0</td>\n",
       "      <td>1.0</td>\n",
       "      <td>-1.0</td>\n",
       "    </tr>\n",
       "    <tr>\n",
       "      <th>6720</th>\n",
       "      <td>0</td>\n",
       "      <td>2</td>\n",
       "      <td>4</td>\n",
       "      <td>7.0</td>\n",
       "      <td>12</td>\n",
       "      <td>3.0</td>\n",
       "      <td>2</td>\n",
       "      <td>4</td>\n",
       "      <td>2</td>\n",
       "      <td>0</td>\n",
       "      <td>...</td>\n",
       "      <td>1</td>\n",
       "      <td>1</td>\n",
       "      <td>0</td>\n",
       "      <td>-1</td>\n",
       "      <td>0.797564</td>\n",
       "      <td>0.918863</td>\n",
       "      <td>0.871049</td>\n",
       "      <td>1.0</td>\n",
       "      <td>1.0</td>\n",
       "      <td>-1.0</td>\n",
       "    </tr>\n",
       "    <tr>\n",
       "      <th>6721</th>\n",
       "      <td>0</td>\n",
       "      <td>3</td>\n",
       "      <td>5</td>\n",
       "      <td>4.666666</td>\n",
       "      <td>10</td>\n",
       "      <td>2.0</td>\n",
       "      <td>3</td>\n",
       "      <td>3</td>\n",
       "      <td>2</td>\n",
       "      <td>0</td>\n",
       "      <td>...</td>\n",
       "      <td>2</td>\n",
       "      <td>1</td>\n",
       "      <td>0</td>\n",
       "      <td>-1</td>\n",
       "      <td>0.758084</td>\n",
       "      <td>0.90625</td>\n",
       "      <td>0.833333</td>\n",
       "      <td>1.0</td>\n",
       "      <td>1.0</td>\n",
       "      <td>-1.0</td>\n",
       "    </tr>\n",
       "    <tr>\n",
       "      <th>6722</th>\n",
       "      <td>0</td>\n",
       "      <td>2</td>\n",
       "      <td>4</td>\n",
       "      <td>8.0</td>\n",
       "      <td>13</td>\n",
       "      <td>2.5</td>\n",
       "      <td>2</td>\n",
       "      <td>1</td>\n",
       "      <td>0</td>\n",
       "      <td>0</td>\n",
       "      <td>...</td>\n",
       "      <td>1</td>\n",
       "      <td>1</td>\n",
       "      <td>0</td>\n",
       "      <td>-1</td>\n",
       "      <td>0.759976</td>\n",
       "      <td>0.856088</td>\n",
       "      <td>0.871049</td>\n",
       "      <td>0.898227</td>\n",
       "      <td>0.57938</td>\n",
       "      <td>-1.0</td>\n",
       "    </tr>\n",
       "  </tbody>\n",
       "</table>\n",
       "<p>6723 rows × 79 columns</p>\n",
       "</div>"
      ],
      "text/plain": [
       "      0  1   2         3   4         5  6   7   8  9   ...  69  70  71  72  \\\n",
       "0      0  2  12       5.5   8  4.083334  2  15   7  0  ...  -1  -1  -1  -1   \n",
       "1      0  3  12       5.0  10  3.583333  3  12   8  2  ...   2   1   0  -1   \n",
       "2     19  2  10       6.0   9      2.25  2   9   5  0  ...   1   5   4   3   \n",
       "3      0  2  10       5.5   9       4.1  2  15  11  0  ...  -1  -1  -1  -1   \n",
       "4      0  2   9       2.5   3  4.555555  2   6   3  0  ...   5   1   0  -1   \n",
       "...   .. ..  ..       ...  ..       ... ..  ..  .. ..  ...  ..  ..  ..  ..   \n",
       "6718   0  2   5       5.5   8       2.8  2   5   1  0  ...   2   1   0  -1   \n",
       "6719   0  2   5       3.5   5       3.6  2   5   2  0  ...   2   1   0  -1   \n",
       "6720   0  2   4       7.0  12       3.0  2   4   2  0  ...   1   1   0  -1   \n",
       "6721   0  3   5  4.666666  10       2.0  3   3   2  0  ...   2   1   0  -1   \n",
       "6722   0  2   4       8.0  13       2.5  2   1   0  0  ...   1   1   0  -1   \n",
       "\n",
       "            73        74        75        76       77        78  \n",
       "0     0.676804  0.860529      -1.0      -1.0     -1.0      -1.0  \n",
       "1     0.715629  0.776796  0.693127  0.738315      1.0      -1.0  \n",
       "2     0.747202    0.8337  0.655459  0.829535  0.83615  0.823008  \n",
       "3     0.732981  0.860529      -1.0      -1.0     -1.0      -1.0  \n",
       "4     0.742606       1.0  0.785719  0.808833      1.0      -1.0  \n",
       "...        ...       ...       ...       ...      ...       ...  \n",
       "6718  0.734789   0.95351  0.693127       1.0      1.0      -1.0  \n",
       "6719  0.793129  0.916667  0.859582       1.0      1.0      -1.0  \n",
       "6720  0.797564  0.918863  0.871049       1.0      1.0      -1.0  \n",
       "6721  0.758084   0.90625  0.833333       1.0      1.0      -1.0  \n",
       "6722  0.759976  0.856088  0.871049  0.898227  0.57938      -1.0  \n",
       "\n",
       "[6723 rows x 79 columns]"
      ]
     },
     "execution_count": 9,
     "metadata": {},
     "output_type": "execute_result"
    }
   ],
   "source": [
    "columns_ = list(df.columns) #storing the column names\n",
    "\n",
    "pd.DataFrame(X) #sanity check"
   ]
  },
  {
   "cell_type": "markdown",
   "id": "8edddd83",
   "metadata": {},
   "source": [
    "##### Under- Sampling  and creating test/train set"
   ]
  },
  {
   "cell_type": "code",
   "execution_count": 10,
   "id": "1774a490",
   "metadata": {},
   "outputs": [
    {
     "name": "stdout",
     "output_type": "stream",
     "text": [
      "Original dataset shape Counter({'phishing': 4014, 'benign': 2709})\n",
      "Resampled dataset shape Counter({'benign': 2709, 'phishing': 2709})\n"
     ]
    }
   ],
   "source": [
    "#from https://imbalanced-learn.org/stable/references/generated/imblearn.under_sampling.RandomUnderSampler.html\n",
    "\n",
    "from collections import Counter\n",
    "from sklearn.datasets import make_classification\n",
    "from imblearn.under_sampling import RandomUnderSampler \n",
    "\n",
    "print('Original dataset shape %s' % Counter(y))\n",
    "\n",
    "rus = RandomUnderSampler(random_state=42)\n",
    "X_res, y_res = rus.fit_resample(X, y)\n",
    "print('Resampled dataset shape %s' % Counter(y_res))"
   ]
  },
  {
   "cell_type": "code",
   "execution_count": 11,
   "id": "31ebb4c1",
   "metadata": {},
   "outputs": [],
   "source": [
    "test_size_ = 0.2\n",
    "random_state_ = 100\n",
    "\n",
    "X_train, X_test, y_train, y_test = train_test_split( X_res, y_res, test_size = test_size_, random_state = random_state_)"
   ]
  },
  {
   "cell_type": "markdown",
   "id": "7e4a4584",
   "metadata": {},
   "source": [
    "### Decision Tree Building and AdaBOOST"
   ]
  },
  {
   "cell_type": "markdown",
   "id": "4dcb20d1",
   "metadata": {},
   "source": [
    "We're going to run the model in a loop and store the outcomes. This is based on last weeks assignment, just consolidated for ease of reading"
   ]
  },
  {
   "cell_type": "code",
   "execution_count": 12,
   "id": "16f6bb11",
   "metadata": {},
   "outputs": [],
   "source": [
    "#We are going to store the accuracies for visualization\n",
    "#format = [depth,accuracy]\n",
    "\n",
    "######## original set\n",
    "gini_acc_test = []\n",
    "ent_acc_test = []\n",
    "\n",
    "gini_acc_train = []\n",
    "ent_acc_train = []\n",
    "\n",
    "gini_abs_diff = []\n",
    "ent_abs_diff = []\n",
    "\n",
    "######## abc set\n",
    "\n",
    "gini_acc_abc_test = []\n",
    "ent_acc_abc_test = []\n",
    "\n",
    "gini_acc_abc_train = []\n",
    "ent_acc_abc_train = []\n",
    "\n",
    "gini_abs_abc_diff = []\n",
    "ent_abs_abc_diff = []\n"
   ]
  },
  {
   "cell_type": "markdown",
   "id": "b2415796",
   "metadata": {},
   "source": [
    "##### Gini"
   ]
  },
  {
   "cell_type": "markdown",
   "id": "4b328d37",
   "metadata": {},
   "source": [
    "Setting up our model with depth_list"
   ]
  },
  {
   "cell_type": "code",
   "execution_count": 13,
   "id": "059d494c",
   "metadata": {},
   "outputs": [],
   "source": [
    "depth_list = [1,3,6,9,12,15,18]\n",
    "\n",
    "for i in range(len(depth_list)):\n",
    "    \n",
    "    #Decision Tree\n",
    "    max_depth_ = depth_list[i]\n",
    "    min_samples_leaf_ = 5\n",
    "\n",
    "    tree_gini = DecisionTreeClassifier(criterion = \"gini\", random_state = 50,\n",
    "                               max_depth=max_depth_, min_samples_leaf=min_samples_leaf_)\n",
    "    tree_gini.fit(X_train, y_train)\n",
    "    y_pred_gini = tree_gini.predict(X_test)\n",
    "    y_pred_gini_train = tree_gini.predict(X_train)\n",
    "    \n",
    "    #create adaboost classifier object\n",
    "    abc = AdaBoostClassifier(base_estimator=tree_gini)\n",
    "    #Train Adaboost Classifier\n",
    "    model = abc.fit(X_train,y_train)\n",
    "    #predict\n",
    "    y_pred_test_abc=model.predict(X_test)\n",
    "    y_pred_train_abc=model.predict(X_train)\n",
    "    \n",
    "    #accuracy scores storage\n",
    "    acc_score_test = accuracy_score(y_test,y_pred_gini)*100\n",
    "    acc_score_train = accuracy_score(y_train,y_pred_gini_train)*100\n",
    "    diff = abs(acc_score_test-acc_score_train)\n",
    "    gini_abs_diff.append([max_depth_,diff])\n",
    "    gini_acc_test.append([max_depth_,acc_score_test])\n",
    "    gini_acc_train.append([max_depth_,acc_score_train])\n",
    "    acc_score_test_abc = accuracy_score(y_test,y_pred_test_abc)*100\n",
    "    acc_score_train_abc = accuracy_score(y_train,y_pred_train_abc)*100\n",
    "    diff_abc = abs(acc_score_test_abc-acc_score_train_abc)\n",
    "    gini_abs_abc_diff.append([max_depth_,diff_abc])\n",
    "    gini_acc_abc_test.append([max_depth_,acc_score_test_abc])\n",
    "    gini_acc_abc_train.append([max_depth_,acc_score_train_abc])\n",
    "                         "
   ]
  },
  {
   "cell_type": "markdown",
   "id": "d7e004ea",
   "metadata": {},
   "source": [
    "We are going to create plots below for analysis"
   ]
  },
  {
   "cell_type": "code",
   "execution_count": 14,
   "id": "533de008",
   "metadata": {},
   "outputs": [
    {
     "data": {
      "image/png": "[encoded data removed]",
      "text/plain": [
       "<Figure size 432x288 with 1 Axes>"
      ]
     },
     "metadata": {
      "needs_background": "light"
     },
     "output_type": "display_data"
    },
    {
     "name": "stdout",
     "output_type": "stream",
     "text": [
      "Gini without AdaBoost (test set)\n",
      "[[1, 81.82656826568265], [3, 92.71217712177122], [6, 94.4649446494465], [9, 94.92619926199262], [12, 94.92619926199262], [15, 94.18819188191881], [18, 93.81918819188192]]\n"
     ]
    }
   ],
   "source": [
    "def feature_plot(table):\n",
    " \n",
    "    x_axis = []\n",
    "    for i in range(len(table)):\n",
    "        x_axis.append(table[i][1])\n",
    "    \n",
    "    y_axis = []\n",
    "    for i in range(len(table)):\n",
    "        y_axis.append(table[i][0])\n",
    "\n",
    "    plt.plot(y_axis, x_axis) \n",
    "    plt.ylabel(\"Accuracy %\") \n",
    "    plt.xlabel(\"Depth\") \n",
    "    title_val = \"Accuracy Plot vs Max Depth\"\n",
    "    plt.title(title_val)\n",
    "    \n",
    "   \n",
    "    plt.show()\n",
    "\n",
    "feature_plot(gini_acc_test)\n",
    "\n",
    "#Gini without AdaBoost\n",
    "print(\"Gini without AdaBoost (test set)\")\n",
    "print(gini_acc_test)"
   ]
  },
  {
   "cell_type": "code",
   "execution_count": 15,
   "id": "94c92009",
   "metadata": {},
   "outputs": [
    {
     "data": {
      "image/png": "[encoded data removed]",
      "text/plain": [
       "<Figure size 432x288 with 1 Axes>"
      ]
     },
     "metadata": {
      "needs_background": "light"
     },
     "output_type": "display_data"
    },
    {
     "name": "stdout",
     "output_type": "stream",
     "text": [
      "Gini with AdaBoost (test set)\n",
      "[[1, 97.23247232472325], [3, 97.97047970479706], [6, 97.32472324723247], [9, 98.61623616236163], [12, 97.50922509225092], [15, 98.06273062730627], [18, 98.1549815498155]]\n"
     ]
    }
   ],
   "source": [
    "#Gini with AdaBoost\n",
    "feature_plot(gini_acc_abc_test)\n",
    "print(\"Gini with AdaBoost (test set)\")\n",
    "print(gini_acc_abc_test)"
   ]
  },
  {
   "cell_type": "markdown",
   "id": "81dbd7ca",
   "metadata": {},
   "source": [
    "###### Analysis of Gini criterion with and without Adaboost "
   ]
  },
  {
   "cell_type": "markdown",
   "id": "c80b8481",
   "metadata": {},
   "source": [
    "We can observe in the plots above that adaboost strongly benefits from an increase in depth for the range we set to analyze. While, Gini without Adaboost shows a smoother and mostly positively sloped response to an increase in max_depth, when AdaBoost is enabled there are significant spikes in improvement such as depth of 3 and depth of 9. The max_depth is related to how we are pruning our decision trees. Let's look at accuracy of test vs training data for the Gini with to see if we can learn more about the relationship. "
   ]
  },
  {
   "cell_type": "code",
   "execution_count": 16,
   "id": "6b27249e",
   "metadata": {},
   "outputs": [
    {
     "data": {
      "image/png": "[encoded data removed]",
      "text/plain": [
       "<Figure size 432x288 with 1 Axes>"
      ]
     },
     "metadata": {
      "needs_background": "light"
     },
     "output_type": "display_data"
    }
   ],
   "source": [
    "#we are ASSUMING identical cardinality between each set (this is risky for error)\n",
    "X = []\n",
    "for i in range(len(gini_acc_test)): \n",
    "    X.append(gini_acc_test[i][0])\n",
    "\n",
    "Y1=[]\n",
    "for i in range(len(gini_acc_test)): \n",
    "    Y1.append(gini_acc_test[i][1])\n",
    "Y2 = []\n",
    "for i in range(len(gini_acc_train)): \n",
    "    Y2.append(gini_acc_train[i][1])\n",
    "\n",
    "plt.plot(X, Y1, color='r', label='gini test')\n",
    "plt.plot(X, Y2, color='g', label='gini train')\n",
    "\n",
    "\n",
    "plt.xlabel(\"Max Depth\")\n",
    "plt.ylabel(\"Accuracy %\")\n",
    "plt.title(\"Gini Impurity (test/train) accuracy related to max depth\")\n",
    "  \n",
    "\n",
    "plt.legend()\n",
    "  \n",
    "plt.show()"
   ]
  },
  {
   "cell_type": "code",
   "execution_count": 17,
   "id": "864c1a50",
   "metadata": {},
   "outputs": [
    {
     "data": {
      "image/png": "[encoded data removed]",
      "text/plain": [
       "<Figure size 432x288 with 1 Axes>"
      ]
     },
     "metadata": {
      "needs_background": "light"
     },
     "output_type": "display_data"
    }
   ],
   "source": [
    "#we are ASSUMING identical cardinality between each set (this is risky for error)\n",
    "X = []\n",
    "for i in range(len(gini_acc_abc_test)): \n",
    "    X.append(gini_acc_abc_test[i][0])\n",
    "\n",
    "Y1=[]\n",
    "for i in range(len(gini_acc_abc_test)): \n",
    "    Y1.append(gini_acc_abc_test[i][1])\n",
    "Y2 = []\n",
    "for i in range(len(gini_acc_train)): \n",
    "    Y2.append(gini_acc_abc_train[i][1])\n",
    "\n",
    "plt.plot(X, Y1, color='r', label='gini abc test')\n",
    "plt.plot(X, Y2, color='g', label='gini abc train')\n",
    "\n",
    "\n",
    "plt.xlabel(\"Max Depth\")\n",
    "plt.ylabel(\"Accuracy %\")\n",
    "plt.title(\"Gini Impurity (test/train) with AdaBoost accuracy related to max depth\")\n",
    "  \n",
    "\n",
    "plt.legend()\n",
    "  \n",
    "plt.show()"
   ]
  },
  {
   "cell_type": "markdown",
   "id": "399a6c8e",
   "metadata": {},
   "source": [
    "We can see here the dramatic result of adaboost causing a noticeably strong fit on the training data as soon as we approach a max_depth of 3. While the adaboost algorithm uses the incorrect classifications as an input for the next model and repeats till we meet a set condition we are still building on top of the original tree classifier here and it's hyper parameters, which includes max_depth. This means that while we notice that our test accuracy has visibly noticeable (by graph) peaks and valleys as we increase max_depth, the specific locations and behavior is an expression of this datasets features and classifications (an obvious statement I know)."
   ]
  },
  {
   "cell_type": "code",
   "execution_count": 18,
   "id": "bd8a728e",
   "metadata": {},
   "outputs": [
    {
     "data": {
      "image/png": "[encoded data removed]",
      "text/plain": [
       "<Figure size 432x288 with 1 Axes>"
      ]
     },
     "metadata": {
      "needs_background": "light"
     },
     "output_type": "display_data"
    }
   ],
   "source": [
    "#we are ASSUMING identical cardinality between each set (this is risky for error)\n",
    "X = []\n",
    "for i in range(len(gini_acc_test)): \n",
    "    X.append(gini_acc_test[i][0])\n",
    "\n",
    "Y1=[]\n",
    "for i in range(len(gini_acc_test)): \n",
    "    Y1.append(gini_acc_test[i][1])\n",
    "Y2 = []\n",
    "for i in range(len(gini_acc_abc_test)): \n",
    "    Y2.append(gini_acc_abc_test[i][1])\n",
    "\n",
    "plt.plot(X, Y1, color='r', label='gini')\n",
    "plt.plot(X, Y2, color='g', label='gini w/ AdaBoost')\n",
    "\n",
    "\n",
    "plt.xlabel(\"Max Depth\")\n",
    "plt.ylabel(\"Accuracy %\")\n",
    "plt.title(\"Gini Impurity accuracy (test) related to max depth and AdaBoost\")\n",
    "  \n",
    "\n",
    "plt.legend()\n",
    "  \n",
    "plt.show()"
   ]
  },
  {
   "cell_type": "markdown",
   "id": "4440d76a",
   "metadata": {},
   "source": [
    "Looking at the above chart and connecting it with the below chart we observe something fascinating. **Adaboost results in a reduction of overfitting**.\n",
    "\n",
    "We can see that after max_depth>=6, the decision with Gini criterion without adaboost starts demonstrating a gradual increase in the absolute value of the difference between test and training accuracy. Note this is the absolute value of the difference, there can also be underfitting. Either way, adaboost appears to result in a reduction of fitting issues regardless of max_depth when compared, and we can concretely demonstrate this visually. \n"
   ]
  },
  {
   "cell_type": "code",
   "execution_count": 19,
   "id": "aec72cf4",
   "metadata": {},
   "outputs": [
    {
     "data": {
      "image/png": "[encoded data removed]",
      "text/plain": [
       "<Figure size 432x288 with 1 Axes>"
      ]
     },
     "metadata": {
      "needs_background": "light"
     },
     "output_type": "display_data"
    }
   ],
   "source": [
    "#we are ASSUMING identical cardinality between each set (this is risky for error)\n",
    "X = []\n",
    "for i in range(len(gini_abs_diff)): \n",
    "    X.append(gini_abs_diff[i][0])\n",
    "\n",
    "Y1=[]\n",
    "for i in range(len(gini_abs_diff)): \n",
    "    Y1.append(gini_abs_diff[i][1])\n",
    "Y2 = []\n",
    "for i in range(len(gini_abs_abc_diff)): \n",
    "    Y2.append(gini_abs_abc_diff[i][1])\n",
    "\n",
    "plt.plot(X, Y1, color='r', label='gini')\n",
    "plt.plot(X, Y2, color='g', label='gini w/ AdaBoost')\n",
    "\n",
    "\n",
    "plt.xlabel(\"Max Depth\")\n",
    "plt.ylabel(\"Difference between test and training\")\n",
    "plt.title(\"Difference between test and training accuracy\")\n",
    "  \n",
    "\n",
    "plt.legend()\n",
    "  \n",
    "plt.show()"
   ]
  },
  {
   "cell_type": "markdown",
   "id": "4675a161",
   "metadata": {},
   "source": [
    "##### Entropy"
   ]
  },
  {
   "cell_type": "code",
   "execution_count": 20,
   "id": "da3c0144",
   "metadata": {},
   "outputs": [],
   "source": [
    "depth_list = [1,3,6,9,12,15,18]\n",
    "\n",
    "for i in range(len(depth_list)):\n",
    "    \n",
    "    #Decision Tree\n",
    "    max_depth_ = depth_list[i]\n",
    "    min_samples_leaf_ = 5\n",
    "\n",
    "    tree_entropy = DecisionTreeClassifier(criterion = \"entropy\", random_state = 50,\n",
    "                               max_depth=max_depth_, min_samples_leaf=min_samples_leaf_)\n",
    "    tree_entropy.fit(X_train, y_train)\n",
    "    y_pred_entropy_test = tree_entropy.predict(X_test)\n",
    "    y_pred_entropy_train = tree_entropy.predict(X_train)\n",
    "    \n",
    "    #create adaboost classifier object\n",
    "    abc = AdaBoostClassifier(base_estimator=tree_entropy)\n",
    "    #Train Adaboost Classifier\n",
    "    model = abc.fit(X_train,y_train)\n",
    "    #predict\n",
    "    y_pred_test_abc=model.predict(X_test)\n",
    "    y_pred_train_abc=model.predict(X_train)\n",
    "    \n",
    "    #accuracy scores\n",
    "    acc_score_test = accuracy_score(y_test,y_pred_entropy_test)*100\n",
    "    acc_score_train = accuracy_score(y_train,y_pred_entropy_train)*100\n",
    "    diff = abs(acc_score_test-acc_score_train)\n",
    "    ent_abs_diff.append([max_depth_,diff])\n",
    "    ent_acc_test.append([max_depth_,acc_score_test])\n",
    "    ent_acc_train.append([max_depth_,acc_score_train])\n",
    "    acc_score_test_abc = accuracy_score(y_test,y_pred_test_abc)*100\n",
    "    acc_score_train_abc = accuracy_score(y_train,y_pred_train_abc)*100\n",
    "    diff_abc = abs(acc_score_test_abc-acc_score_train_abc)\n",
    "    ent_abs_abc_diff.append([max_depth_,diff_abc])\n",
    "    ent_acc_abc_test.append([max_depth_,acc_score_test_abc])\n",
    "    ent_acc_abc_train.append([max_depth_,acc_score_train_abc])"
   ]
  },
  {
   "cell_type": "code",
   "execution_count": 21,
   "id": "dc510d7c",
   "metadata": {},
   "outputs": [
    {
     "name": "stdout",
     "output_type": "stream",
     "text": [
      "\n",
      "Entropy without Adaboost\n"
     ]
    },
    {
     "data": {
      "image/png": "[encoded data removed]",
      "text/plain": [
       "<Figure size 432x288 with 1 Axes>"
      ]
     },
     "metadata": {
      "needs_background": "light"
     },
     "output_type": "display_data"
    },
    {
     "name": "stdout",
     "output_type": "stream",
     "text": [
      "[[1, 81.82656826568265], [3, 90.40590405904058], [6, 95.38745387453874], [9, 95.20295202952029], [12, 95.5719557195572], [15, 95.9409594095941], [18, 96.03321033210332]]\n",
      "\n",
      "Entropy with Adaboost\n"
     ]
    },
    {
     "data": {
      "image/png": "[encoded data removed]",
      "text/plain": [
       "<Figure size 432x288 with 1 Axes>"
      ]
     },
     "metadata": {
      "needs_background": "light"
     },
     "output_type": "display_data"
    },
    {
     "name": "stdout",
     "output_type": "stream",
     "text": [
      "[[1, 97.32472324723247], [3, 97.60147601476015], [6, 97.69372693726937], [9, 98.1549815498155], [12, 98.43173431734317], [15, 98.43173431734317], [18, 98.1549815498155]]\n"
     ]
    },
    {
     "data": {
      "image/png": "[encoded data removed]",
      "text/plain": [
       "<Figure size 432x288 with 1 Axes>"
      ]
     },
     "metadata": {
      "needs_background": "light"
     },
     "output_type": "display_data"
    },
    {
     "data": {
      "image/png": "[encoded data removed]",
      "text/plain": [
       "<Figure size 432x288 with 1 Axes>"
      ]
     },
     "metadata": {
      "needs_background": "light"
     },
     "output_type": "display_data"
    },
    {
     "data": {
      "image/png": "[encoded data removed]",
      "text/plain": [
       "<Figure size 432x288 with 1 Axes>"
      ]
     },
     "metadata": {
      "needs_background": "light"
     },
     "output_type": "display_data"
    }
   ],
   "source": [
    "#ent without AdaBoost\n",
    "print(\"\\nEntropy without Adaboost\")\n",
    "feature_plot(gini_acc_test)\n",
    "print(ent_acc_test)\n",
    "\n",
    "#ent with AdaBoost\n",
    "print(\"\\nEntropy with Adaboost\")\n",
    "feature_plot(ent_acc_abc_test)\n",
    "print(ent_acc_abc_test)\n",
    "\n",
    "#we are ASSUMING identical cardinality between each set (this is risky for error)\n",
    "X = []\n",
    "for i in range(len(ent_acc_test)): \n",
    "    X.append(ent_acc_test[i][0])\n",
    "\n",
    "Y1=[]\n",
    "for i in range(len(ent_acc_test)): \n",
    "    Y1.append(ent_acc_test[i][1])\n",
    "Y2 = []\n",
    "for i in range(len(ent_acc_train)): \n",
    "    Y2.append(ent_acc_train[i][1])\n",
    "\n",
    "plt.plot(X, Y1, color='r', label='Entropy test')\n",
    "plt.plot(X, Y2, color='g', label='Entropy train')\n",
    "\n",
    "\n",
    "plt.xlabel(\"Max Depth\")\n",
    "plt.ylabel(\"Accuracy %\")\n",
    "plt.title(\"Entropy Impurity (test/train) accuracy related to max depth\")\n",
    "  \n",
    "\n",
    "plt.legend()\n",
    "  \n",
    "plt.show()\n",
    "\n",
    "#we are ASSUMING identical cardinality between each set (this is risky for error)\n",
    "X = []\n",
    "for i in range(len(ent_acc_abc_test)): \n",
    "    X.append(ent_acc_abc_test[i][0])\n",
    "\n",
    "Y1=[]\n",
    "for i in range(len(ent_acc_abc_test)): \n",
    "    Y1.append(ent_acc_abc_test[i][1])\n",
    "Y2 = []\n",
    "for i in range(len(ent_acc_train)): \n",
    "    Y2.append(ent_acc_abc_train[i][1])\n",
    "\n",
    "plt.plot(X, Y1, color='r', label='ent abc test')\n",
    "plt.plot(X, Y2, color='g', label='ent abc train')\n",
    "\n",
    "\n",
    "plt.xlabel(\"Max Depth\")\n",
    "plt.ylabel(\"Accuracy %\")\n",
    "plt.title(\"Entropy Impurity (test/train) with AdaBoost accuracy related to max depth\")\n",
    "  \n",
    "\n",
    "plt.legend()\n",
    "  \n",
    "plt.show()\n",
    "\n",
    "#we are ASSUMING identical cardinality between each set (this is risky for error)\n",
    "X = []\n",
    "for i in range(len(ent_acc_test)): \n",
    "    X.append(ent_acc_test[i][0])\n",
    "\n",
    "Y1=[]\n",
    "for i in range(len(ent_acc_test)): \n",
    "    Y1.append(ent_acc_test[i][1])\n",
    "Y2 = []\n",
    "for i in range(len(ent_acc_abc_test)): \n",
    "    Y2.append(ent_acc_abc_test[i][1])\n",
    "\n",
    "plt.plot(X, Y1, color='r', label='ent')\n",
    "plt.plot(X, Y2, color='g', label='ent w/ AdaBoost')\n",
    "\n",
    "\n",
    "plt.xlabel(\"Max Depth\")\n",
    "plt.ylabel(\"Accuracy %\")\n",
    "plt.title(\"Entropy Impurity accuracy (test) related to max depth and AdaBoost\")\n",
    "  \n",
    "\n",
    "plt.legend()\n",
    "  \n",
    "plt.show()"
   ]
  },
  {
   "cell_type": "markdown",
   "id": "59130ca8",
   "metadata": {},
   "source": [
    "When it comes to using the decision tree with entropy criterion we notice a very interesting relationship between the absolute difference between test and training accuracy. Initially with Adaboost enabled there is a substantial difference between the test and training accuracy. It is only after max_depth=9 that the non adaboost version of the decision tree (entropy criterion) starts overfitting (training accuracy becomes greater than test accuracy). **Even so, enabling AdaBoost for a decision tree with entropy criterion still results in an increase in prediction accuracy**."
   ]
  },
  {
   "cell_type": "code",
   "execution_count": 22,
   "id": "ff0d2b62",
   "metadata": {},
   "outputs": [
    {
     "data": {
      "image/png": "[encoded data removed]",
      "text/plain": [
       "<Figure size 432x288 with 1 Axes>"
      ]
     },
     "metadata": {
      "needs_background": "light"
     },
     "output_type": "display_data"
    }
   ],
   "source": [
    "#we are ASSUMING identical cardinality between each set (this is risky for error)\n",
    "X = []\n",
    "for i in range(len(ent_abs_diff)): \n",
    "    X.append(ent_abs_diff[i][0])\n",
    "\n",
    "Y1=[]\n",
    "for i in range(len(ent_abs_diff)): \n",
    "    Y1.append(ent_abs_diff[i][1])\n",
    "Y2 = []\n",
    "for i in range(len(ent_abs_abc_diff)): \n",
    "    Y2.append(ent_abs_abc_diff[i][1])\n",
    "\n",
    "plt.plot(X, Y1, color='r', label='entropy')\n",
    "plt.plot(X, Y2, color='g', label='entropy w/ AdaBoost')\n",
    "\n",
    "\n",
    "plt.xlabel(\"Max Depth\")\n",
    "plt.ylabel(\"Difference between test and training\")\n",
    "plt.title(\"Difference between test and training accuracy\")\n",
    "  \n",
    "\n",
    "plt.legend()\n",
    "  \n",
    "plt.show()"
   ]
  },
  {
   "cell_type": "markdown",
   "id": "4d4c370c",
   "metadata": {},
   "source": [
    "#### Discussion/ Analysis"
   ]
  },
  {
   "cell_type": "markdown",
   "id": "426b60ca",
   "metadata": {},
   "source": [
    "Let's first graph both entropy and gini criterion with and without Adaboost all in the same chart"
   ]
  },
  {
   "cell_type": "code",
   "execution_count": 23,
   "id": "f0cd29da",
   "metadata": {},
   "outputs": [
    {
     "data": {
      "image/png": "[encoded data removed]",
      "text/plain": [
       "<Figure size 432x288 with 1 Axes>"
      ]
     },
     "metadata": {
      "needs_background": "light"
     },
     "output_type": "display_data"
    }
   ],
   "source": [
    "#we are ASSUMING identical cardinality between each set (this is risky for error)\n",
    "X = []\n",
    "for i in range(len(ent_acc_abc_test)): \n",
    "    X.append(ent_acc_abc_test[i][0])\n",
    "\n",
    "Y1=[]\n",
    "for i in range(len(ent_acc_abc_test)): \n",
    "    Y1.append(ent_acc_abc_test[i][1])\n",
    "Y2 = []\n",
    "for i in range(len(ent_acc_test)): \n",
    "    Y2.append(ent_acc_test[i][1])\n",
    "Y3=[]\n",
    "for i in range(len(gini_acc_test)): \n",
    "    Y3.append(gini_acc_test[i][1])\n",
    "Y4 = []\n",
    "for i in range(len(gini_acc_abc_test)): \n",
    "    Y4.append(gini_acc_abc_test[i][1])\n",
    "\n",
    "plt.plot(X, Y1, color='red', label='Entropy w/Adaboost')\n",
    "plt.plot(X, Y2, color='blue', label='Entropy')\n",
    "plt.plot(X, Y4, color='green', label='Gini w/Adaboost')\n",
    "plt.plot(X, Y3, color='brown', label='Gini')\n",
    "\n",
    "         \n",
    "\n",
    "\n",
    "plt.xlabel(\"Max Depth\")\n",
    "plt.ylabel(\"Accuracy %\")\n",
    "plt.title(\"Entropy vs Gini (AdaBoost) accuracy related to max depth\")\n",
    "  \n",
    "\n",
    "plt.legend()\n",
    "  \n",
    "plt.show()"
   ]
  },
  {
   "cell_type": "markdown",
   "id": "8e45d6e2",
   "metadata": {},
   "source": [
    "Both the entropy and gini criterion with Adaboost result in a significant increase in the prediction accuracy of the test set. When exclusively looking at prediction accuracy of the test set within in the max depths set defined in the assignment, we identify a test prediction accuracy maximum value at max_depth = 12 of 98.43, for the Decision Tree with Entropy criterion and Adaboost applied. Using that specific max_depth parameter, let's look at the confusion matrix between Entropy with and without Adaboost at max_depth = 12. "
   ]
  },
  {
   "cell_type": "code",
   "execution_count": 27,
   "id": "1cb87a89",
   "metadata": {},
   "outputs": [
    {
     "data": {
      "text/plain": [
       "array([[548,   7],\n",
       "       [ 12, 517]], dtype=int64)"
      ]
     },
     "execution_count": 27,
     "metadata": {},
     "output_type": "execute_result"
    },
    {
     "data": {
      "image/png": "[encoded data removed]",
      "text/plain": [
       "<Figure size 432x288 with 2 Axes>"
      ]
     },
     "metadata": {
      "needs_background": "light"
     },
     "output_type": "display_data"
    },
    {
     "data": {
      "image/png": "[encoded data removed]",
      "text/plain": [
       "<Figure size 432x288 with 2 Axes>"
      ]
     },
     "metadata": {
      "needs_background": "light"
     },
     "output_type": "display_data"
    }
   ],
   "source": [
    "#example diagrams from: https://www.datacamp.com/tutorial/understanding-logistic-regression-python\n",
    "# import the metrics class\n",
    "from sklearn import metrics\n",
    "import numpy as np\n",
    "import matplotlib.pyplot as plt\n",
    "import seaborn as sns\n",
    "\n",
    "    #Decision Tree\n",
    "max_depth_ = 9\n",
    "min_samples_leaf_ = 5\n",
    "\n",
    "tree_ent = DecisionTreeClassifier(criterion = \"entropy\", random_state = 50,\n",
    "                               max_depth=max_depth_, min_samples_leaf=min_samples_leaf_)\n",
    "tree_ent.fit(X_train, y_train)\n",
    "y_pred_ent_test = tree_ent.predict(X_test)\n",
    "y_pred_ent_train = tree_ent.predict(X_train)\n",
    "    \n",
    "#create adaboost classifier object\n",
    "abc = AdaBoostClassifier(base_estimator=tree_ent)\n",
    "#Train Adaboost Classifier\n",
    "model = abc.fit(X_train,y_train)\n",
    "#predict\n",
    "y_pred_test_abc=model.predict(X_test)\n",
    "y_pred_train_abc=model.predict(X_train)\n",
    "\n",
    "cnf_matrix_std = metrics.confusion_matrix(y_test, y_pred_ent_test)\n",
    "cnf_matrix_ada = metrics.confusion_matrix(y_test, y_pred_test_abc)\n",
    "\n",
    "\n",
    "# create heatmap std\n",
    "class_names=[0,1] # name  of classes\n",
    "fig, ax = plt.subplots()\n",
    "tick_marks = np.arange(len(class_names))\n",
    "plt.xticks(tick_marks, class_names)\n",
    "plt.yticks(tick_marks, class_names)\n",
    "\n",
    "sns.heatmap(pd.DataFrame(cnf_matrix_std), annot=True, cmap=\"YlGnBu\" ,fmt='g')\n",
    "ax.xaxis.set_label_position(\"top\")\n",
    "plt.tight_layout()\n",
    "plt.title('Confusion matrix - Entropy at max_depth = 12 without Adaboost', y=1.1)\n",
    "plt.ylabel('Actual label')\n",
    "plt.xlabel('Predicted label')\n",
    "cnf_matrix_std\n",
    "\n",
    "# create heatmap w/adaboost\n",
    "class_names=[0,1] # name  of classes\n",
    "fig, ax = plt.subplots()\n",
    "tick_marks = np.arange(len(class_names))\n",
    "plt.xticks(tick_marks, class_names)\n",
    "plt.yticks(tick_marks, class_names)\n",
    "\n",
    "sns.heatmap(pd.DataFrame(cnf_matrix_ada), annot=True, cmap=\"YlGnBu\" ,fmt='g')\n",
    "ax.xaxis.set_label_position(\"top\")\n",
    "plt.tight_layout()\n",
    "plt.title('Confusion matrix - Entropy at max_depth = 12 with Adaboost', y=1.1)\n",
    "plt.ylabel('Actual label')\n",
    "plt.xlabel('Predicted label')\n",
    "cnf_matrix_ada"
   ]
  },
  {
   "cell_type": "markdown",
   "id": "7a4de71d",
   "metadata": {},
   "source": [
    "As expected the two confusion matrices track what we already saw in the chart (just a different visualization format). The adaboost truly increases our ability to correctly predict. What is interesting is to look at what was improved. While we are working with a limited dataset, we move from 31 incorrectly predicted as true to 7, which is a 77.4% reduction, and we move from incorrectly predicting false from 21 to 12 which is a 57.1% reduction. I do not believe we can infer from this anything such as 'claiming' adaboost reduces more incorrect true predictions than incorrect false predictions. However, it may imply information around the dataset itself and the type of true/false classifications we have. We are potentially observing that with adaboost the individual learners when combined seem to be particularly improved at predicting true for this specific dataset, if we had a lot of noise in our dataset, I do not believe we would have witnessed such improvements. In this case the sequential learning correcting past models helps reduce bias error which results in use more accurately observing and therefore identifying relevant trends/patterns in the data. "
   ]
  },
  {
   "cell_type": "markdown",
   "id": "bbb95511",
   "metadata": {},
   "source": [
    "###### Extra Analysis on adaboost"
   ]
  },
  {
   "cell_type": "markdown",
   "id": "0e92749f",
   "metadata": {},
   "source": [
    "We are going to run an analysis to see what the optimal number of trees are for our specific dataset and adaboost"
   ]
  },
  {
   "cell_type": "code",
   "execution_count": 25,
   "id": "0a77b0c5",
   "metadata": {},
   "outputs": [
    {
     "name": "stdout",
     "output_type": "stream",
     "text": [
      ">10 0.971 (0.006)\n",
      ">50 0.977 (0.006)\n",
      ">100 0.978 (0.005)\n",
      ">500 0.979 (0.005)\n",
      ">1000 0.979 (0.005)\n",
      ">5000 0.979 (0.004)\n"
     ]
    },
    {
     "data": {
      "image/png": "[encoded data removed]",
      "text/plain": [
       "<Figure size 432x288 with 1 Axes>"
      ]
     },
     "metadata": {
      "needs_background": "light"
     },
     "output_type": "display_data"
    }
   ],
   "source": [
    "#Source: https://machinelearningmastery.com/adaboost-ensemble-in-python\n",
    "\n",
    "# explore adaboost ensemble number of trees effect on performance\n",
    "from numpy import mean\n",
    "from numpy import std\n",
    "from sklearn.datasets import make_classification\n",
    "from sklearn.model_selection import cross_val_score\n",
    "from sklearn.model_selection import RepeatedStratifiedKFold\n",
    "from sklearn.ensemble import AdaBoostClassifier\n",
    "from matplotlib import pyplot\n",
    "\n",
    "# get a list of models to evaluate\n",
    "def get_models():\n",
    "\tmodels = dict()\n",
    "\t# define number of trees to consider\n",
    "\tn_trees = [10, 50, 100, 500, 1000, 5000]\n",
    "\tfor n in n_trees:\n",
    "\t\tmodels[str(n)] = AdaBoostClassifier(base_estimator=tree_gini, n_estimators=n)\n",
    "\treturn models\n",
    " \n",
    "# evaluate a given model using cross-validation\n",
    "def evaluate_model(model, X, y):\n",
    "\t# define the evaluation procedure\n",
    "\tcv = RepeatedStratifiedKFold(n_splits=10, n_repeats=3, random_state=1)\n",
    "\t# evaluate the model and collect the results\n",
    "\tscores = cross_val_score(model, X, y, scoring='accuracy', cv=cv, n_jobs=-1)\n",
    "\treturn scores\n",
    "\n",
    "# get the models to evaluate\n",
    "models = get_models()\n",
    "# evaluate the models and store results\n",
    "results, names = list(), list()\n",
    "for name, model in models.items():\n",
    "\t# evaluate the model\n",
    "\tscores = evaluate_model(model, X_train, y_train)\n",
    "\t# store the results\n",
    "\tresults.append(scores)\n",
    "\tnames.append(name)\n",
    "\t# summarize the performance along the way\n",
    "\tprint('>%s %.3f (%.3f)' % (name, mean(scores), std(scores)))\n",
    "# plot model performance for comparison\n",
    "pyplot.boxplot(results, labels=names, showmeans=True)\n",
    "pyplot.show()\n"
   ]
  },
  {
   "cell_type": "markdown",
   "id": "f0e98db5",
   "metadata": {},
   "source": [
    "Interesting it appears an n_estimator=500 seems to provide a high accuracy value. A few things to keep in mind, we have 36707 samples. So eventually, if make our tree large enough we start describing almost all 'frequent' outcomes to a degree that we can argue it is highly overfitted, but we may not be able to demonstrate it because we have no data that hasn't been 'described'. Even though there is some test data, we already know from our preprocessing work that this data isn't that noisy, there aren't many outliers. Building out a large and highly detailed tree can 'work' but it's size and complexity can quickly become unrealistic, and I am not convinced that if we used the trained model on new data that we will receive always good predictions. Let's take a look at this as an example setting the max_depth to 500, the n_estimators for AdaBoost to 500 and **reduce** min_samples_leaf to 3 from 5, to essentially create a highly specialized tree."
   ]
  },
  {
   "cell_type": "code",
   "execution_count": 65,
   "id": "3f2c22e4",
   "metadata": {},
   "outputs": [],
   "source": [
    "    #Decision Tree\n",
    "max_depth_ = 5000\n",
    "min_samples_leaf_ = 3\n",
    "n = 5000\n",
    "\n",
    "\n",
    "tree_ent = DecisionTreeClassifier(criterion = \"entropy\", random_state = 50,\n",
    "                               max_depth=max_depth_, min_samples_leaf=min_samples_leaf_)\n",
    "tree_ent.fit(X_train, y_train)\n",
    "y_pred_ent_test = tree_ent.predict(X_test)\n",
    "y_pred_ent_train = tree_ent.predict(X_train)\n",
    "    \n",
    "#create adaboost classifier object\n",
    "abc = AdaBoostClassifier(base_estimator=tree_ent,n_estimators=n)\n",
    "#Train Adaboost Classifier\n",
    "model = abc.fit(X_train,y_train)\n",
    "#predict\n",
    "y_pred_test_abc=model.predict(X_test)\n",
    "y_pred_train_abc=model.predict(X_train)"
   ]
  },
  {
   "cell_type": "code",
   "execution_count": 66,
   "id": "7296c3d3",
   "metadata": {},
   "outputs": [
    {
     "name": "stdout",
     "output_type": "stream",
     "text": [
      "test accuracy: 98.61623616236163\n",
      "train accuracy: 100.0\n"
     ]
    }
   ],
   "source": [
    "acc_score_test = accuracy_score(y_test,y_pred_test_abc)*100\n",
    "acc_score_train = accuracy_score(y_train,y_pred_train_abc)*100\n",
    "print(\"test accuracy:\",acc_score_test)\n",
    "print(\"train accuracy:\",acc_score_train)"
   ]
  },
  {
   "cell_type": "markdown",
   "id": "cf24a752",
   "metadata": {},
   "source": [
    "Are we overfitted? Yes, purely by the theory of how decision trees work, even with adaboost, by reducing the min_samples_leaf while increasing max_depth we will create a more highly fitted tree, which will increase overfitting. When min_samples_leaf is set to 5 our test accuracy is 98.52, when we set it to 4 we get 98.43, and when set to 3 we get Regardless, we simply will reach a maximum accuracy as some samples are truly unique, and when pruning we may remove those outlier outcomes since they're not statistically significant. If we reduce min_samples, we are creating more opportunities for highly unique groups to be included in the tree) this is at the expense of complexity (time,space), and we will not really see significant improvements in all datasets, or significant increases in tree complexity. "
   ]
  },
  {
   "cell_type": "markdown",
   "id": "e77b1c9d",
   "metadata": {},
   "source": [
    "We can do the same analysis with a gini based decision tree"
   ]
  },
  {
   "cell_type": "code",
   "execution_count": 68,
   "id": "3a001af5",
   "metadata": {},
   "outputs": [
    {
     "name": "stdout",
     "output_type": "stream",
     "text": [
      "test accuracy: 96.03321033210332\n",
      "train accuracy: 97.85417628057222\n"
     ]
    }
   ],
   "source": [
    "    #Decision Tree\n",
    "max_depth_ = 9\n",
    "min_samples_leaf_ = 3\n",
    "criterion_ = \"gini\"\n",
    "\n",
    "tree = DecisionTreeClassifier(criterion = criterion_, random_state = 50,\n",
    "                               max_depth=max_depth_, min_samples_leaf=min_samples_leaf_)\n",
    "tree.fit(X_train, y_train)\n",
    "y_pred_gini_test = tree.predict(X_test)\n",
    "y_pred_gini_train = tree.predict(X_train)\n",
    "acc_score_test = accuracy_score(y_test,y_pred_gini_test)*100\n",
    "acc_score_train = accuracy_score(y_train,y_pred_gini_train)*100\n",
    "print(\"test accuracy:\",acc_score_test)\n",
    "print(\"train accuracy:\",acc_score_train)\n"
   ]
  },
  {
   "cell_type": "code",
   "execution_count": 98,
   "id": "a256b299",
   "metadata": {},
   "outputs": [
    {
     "name": "stdout",
     "output_type": "stream",
     "text": [
      ">10 0.962 (0.022)\n",
      ">50 0.970 (0.017)\n",
      ">100 0.970 (0.016)\n",
      ">500 0.971 (0.017)\n",
      ">1000 0.972 (0.014)\n",
      ">5000 0.973 (0.017)\n"
     ]
    },
    {
     "data": {
      "image/png": "[encoded data removed]",
      "text/plain": [
       "<Figure size 432x288 with 1 Axes>"
      ]
     },
     "metadata": {
      "needs_background": "light"
     },
     "output_type": "display_data"
    }
   ],
   "source": [
    "#Source: https://machinelearningmastery.com/adaboost-ensemble-in-python\n",
    "\n",
    "# explore adaboost ensemble number of trees effect on performance\n",
    "from numpy import mean\n",
    "from numpy import std\n",
    "from sklearn.datasets import make_classification\n",
    "from sklearn.model_selection import cross_val_score\n",
    "from sklearn.model_selection import RepeatedStratifiedKFold\n",
    "from sklearn.ensemble import AdaBoostClassifier\n",
    "from matplotlib import pyplot\n",
    "\n",
    "# get a list of models to evaluate\n",
    "def get_models():\n",
    "\tmodels = dict()\n",
    "\t# define number of trees to consider\n",
    "\tn_trees = [10, 50, 100, 500, 1000, 5000]\n",
    "\tfor n in n_trees:\n",
    "\t\tmodels[str(n)] = AdaBoostClassifier(base_estimator=tree, n_estimators=n)\n",
    "\treturn models\n",
    " \n",
    "# evaluate a given model using cross-validation\n",
    "def evaluate_model(model, X, y):\n",
    "\t# define the evaluation procedure\n",
    "\tcv = RepeatedStratifiedKFold(n_splits=10, n_repeats=3, random_state=1)\n",
    "\t# evaluate the model and collect the results\n",
    "\tscores = cross_val_score(model, X, y, scoring='accuracy', cv=cv, n_jobs=-1)\n",
    "\treturn scores\n",
    "\n",
    "# get the models to evaluate\n",
    "models = get_models()\n",
    "# evaluate the models and store results\n",
    "results, names = list(), list()\n",
    "for name, model in models.items():\n",
    "\t# evaluate the model\n",
    "\tscores = evaluate_model(model, X_test, y_test)\n",
    "\t# store the results\n",
    "\tresults.append(scores)\n",
    "\tnames.append(name)\n",
    "\t# summarize the performance along the way\n",
    "\tprint('>%s %.3f (%.3f)' % (name, mean(scores), std(scores)))\n",
    "# plot model performance for comparison\n",
    "pyplot.boxplot(results, labels=names, showmeans=True)\n",
    "pyplot.show()\n"
   ]
  },
  {
   "cell_type": "code",
   "execution_count": 76,
   "id": "3447a8bc",
   "metadata": {},
   "outputs": [
    {
     "name": "stdout",
     "output_type": "stream",
     "text": [
      "test accuracy: 98.61623616236163\n",
      "train accuracy: 100.0\n"
     ]
    }
   ],
   "source": [
    "max_depth_ = 500\n",
    "min_samples_leaf_ = 3\n",
    "n = 500\n",
    "\n",
    "\n",
    "tree_ent = DecisionTreeClassifier(criterion = \"entropy\", random_state = 50,\n",
    "                               max_depth=max_depth_, min_samples_leaf=min_samples_leaf_)\n",
    "\n",
    "tree_ent.fit(X_train, y_train)\n",
    "\n",
    "#create adaboost classifier object\n",
    "abc = AdaBoostClassifier(base_estimator=tree_ent,n_estimators=n)\n",
    "#Train Adaboost Classifier\n",
    "model = abc.fit(X_train,y_train)\n",
    "#predict\n",
    "y_pred_test_abc=model.predict(X_test)\n",
    "y_pred_train_abc=model.predict(X_train)\n",
    "\n",
    "acc_score_test = accuracy_score(y_test,y_pred_test_abc)*100\n",
    "acc_score_train = accuracy_score(y_train,y_pred_train_abc)*100\n",
    "print(\"test accuracy:\",acc_score_test)\n",
    "print(\"train accuracy:\",acc_score_train)"
   ]
  },
  {
   "cell_type": "markdown",
   "id": "89a5d16c",
   "metadata": {},
   "source": [
    "As you can see, no mayor further improvements, even when go unnecessarily small with min_samples_leaf and unnecessarily large with max_depth and setting n >500. "
   ]
  },
  {
   "cell_type": "markdown",
   "id": "bb3eb937",
   "metadata": {},
   "source": [
    "###### Evaluate AdaBoost learning rate"
   ]
  },
  {
   "cell_type": "code",
   "execution_count": 92,
   "id": "c467b2ce",
   "metadata": {},
   "outputs": [
    {
     "name": "stdout",
     "output_type": "stream",
     "text": [
      ">0.100 0.970 (0.017)\n",
      ">0.200 0.965 (0.020)\n",
      ">0.300 0.966 (0.019)\n",
      ">0.400 0.968 (0.017)\n",
      ">0.500 0.969 (0.020)\n",
      ">0.600 0.968 (0.019)\n",
      ">0.700 0.971 (0.018)\n",
      ">0.800 0.970 (0.020)\n",
      ">0.900 0.970 (0.018)\n",
      ">1.000 0.971 (0.018)\n",
      ">1.100 0.971 (0.017)\n",
      ">1.200 0.970 (0.018)\n",
      ">1.300 0.970 (0.018)\n",
      ">1.400 0.970 (0.019)\n",
      ">1.500 0.970 (0.019)\n",
      ">1.600 0.972 (0.018)\n",
      ">1.700 0.972 (0.021)\n",
      ">1.800 0.967 (0.017)\n",
      ">1.900 0.967 (0.020)\n",
      ">2.000 0.969 (0.019)\n"
     ]
    },
    {
     "data": {
      "image/png": "[encoded data removed]",
      "text/plain": [
       "<Figure size 432x288 with 1 Axes>"
      ]
     },
     "metadata": {
      "needs_background": "light"
     },
     "output_type": "display_data"
    }
   ],
   "source": [
    "#Modified from Source: https://machinelearningmastery.com/adaboost-ensemble-in-python/\n",
    "\n",
    "# explore adaboost ensemble learning rate effect on performance\n",
    "from numpy import mean\n",
    "from numpy import std\n",
    "from numpy import arange\n",
    "from sklearn.datasets import make_classification\n",
    "from sklearn.model_selection import cross_val_score\n",
    "from sklearn.model_selection import RepeatedStratifiedKFold\n",
    "from sklearn.ensemble import AdaBoostClassifier\n",
    "from matplotlib import pyplot\n",
    " \n",
    "# get a list of models to evaluate\n",
    "def get_models():\n",
    "\tmodels = dict()\n",
    "\t# explore learning rates from 0.1 to 2 in 0.1 increments\n",
    "\tfor i in arange(0.1, 2.1, 0.1):\n",
    "\t\tkey = '%.3f' % i\n",
    "\t\tmodels[key] = AdaBoostClassifier(base_estimator=tree_ent, learning_rate=i)\n",
    "\treturn models\n",
    " \n",
    "# evaluate a given model using cross-validation\n",
    "def evaluate_model(model, X, y):\n",
    "\t# define the evaluation procedure\n",
    "\tcv = RepeatedStratifiedKFold(n_splits=10, n_repeats=3, random_state=1)\n",
    "\t# evaluate the model and collect the results\n",
    "\tscores = cross_val_score(model, X_test, y_test, scoring='accuracy', cv=cv, n_jobs=-1)\n",
    "\treturn scores\n",
    " \n",
    "\n",
    "# get the models to evaluate\n",
    "models = get_models()\n",
    "# evaluate the models and store results\n",
    "results, names = list(), list()\n",
    "for name, model in models.items():\n",
    "\t# evaluate the model\n",
    "\tscores = evaluate_model(model, X_train, y_train)\n",
    "\t# store the results\n",
    "\tresults.append(scores)\n",
    "\tnames.append(name)\n",
    "\t# summarize the performance along the way\n",
    "\tprint('>%s %.3f (%.3f)' % (name, mean(scores), std(scores)))\n",
    "# plot model performance for comparison\n",
    "pyplot.boxplot(results, labels=names, showmeans=True)\n",
    "pyplot.xticks(rotation=45)\n",
    "pyplot.show()"
   ]
  },
  {
   "cell_type": "markdown",
   "id": "5b226076",
   "metadata": {},
   "source": [
    "Again, we do not observe significant changes when modifying the learning rate. We have a range from 0.973-0.978 (0.005). We can see that at learning rate 1.1 and 1.7 there is a tightness around our training accuracy range alongside high performance (so it's leaning towards slightly more accuracte on aveage), with 1.6 having a marginally better mean accuracy (0.972 versus 0.971)."
   ]
  },
  {
   "cell_type": "code",
   "execution_count": 99,
   "id": "a257f1ac",
   "metadata": {},
   "outputs": [
    {
     "name": "stdout",
     "output_type": "stream",
     "text": [
      "test accuracy: 98.70848708487084\n",
      "train accuracy: 100.0\n"
     ]
    }
   ],
   "source": [
    "max_depth_ = 500\n",
    "min_samples_leaf_ = 3\n",
    "n = 500\n",
    "learning_rate_= 1.6\n",
    "\n",
    "tree_ent = DecisionTreeClassifier(criterion = \"entropy\", random_state = 50,\n",
    "                               max_depth=max_depth_, min_samples_leaf=min_samples_leaf_)\n",
    "\n",
    "tree_ent.fit(X_train, y_train)\n",
    "\n",
    "#create adaboost classifier object\n",
    "abc = AdaBoostClassifier(base_estimator=tree_ent,n_estimators=n,learning_rate = learning_rate_)\n",
    "#Train Adaboost Classifier\n",
    "model = abc.fit(X_train,y_train)\n",
    "#predict\n",
    "y_pred_test_abc=model.predict(X_test)\n",
    "y_pred_train_abc=model.predict(X_train)\n",
    "\n",
    "acc_score_test = accuracy_score(y_test,y_pred_test_abc)*100\n",
    "acc_score_train = accuracy_score(y_train,y_pred_train_abc)*100\n",
    "print(\"test accuracy:\",acc_score_test)\n",
    "print(\"train accuracy:\",acc_score_train)"
   ]
  },
  {
   "cell_type": "markdown",
   "id": "18688f1f",
   "metadata": {},
   "source": [
    "Let's now apply our optimal n_estimators to see if we can increase accuracy any further."
   ]
  },
  {
   "cell_type": "code",
   "execution_count": 100,
   "id": "f4c9faf7",
   "metadata": {},
   "outputs": [
    {
     "name": "stdout",
     "output_type": "stream",
     "text": [
      "test accuracy: 98.80073800738008\n",
      "train accuracy: 100.0\n"
     ]
    }
   ],
   "source": [
    "max_depth_ = 1000\n",
    "min_samples_leaf_ = 3\n",
    "n = 1000\n",
    "learning_rate_= 1.6\n",
    "\n",
    "tree_ent = DecisionTreeClassifier(criterion = \"entropy\", random_state = 50,\n",
    "                               max_depth=max_depth_, min_samples_leaf=min_samples_leaf_)\n",
    "\n",
    "tree_ent.fit(X_train, y_train)\n",
    "\n",
    "#create adaboost classifier object\n",
    "abc = AdaBoostClassifier(base_estimator=tree_ent,n_estimators=n,learning_rate = learning_rate_)\n",
    "#Train Adaboost Classifier\n",
    "model = abc.fit(X_train,y_train)\n",
    "#predict\n",
    "y_pred_test_abc=model.predict(X_test)\n",
    "y_pred_train_abc=model.predict(X_train)\n",
    "\n",
    "acc_score_test = accuracy_score(y_test,y_pred_test_abc)*100\n",
    "acc_score_train = accuracy_score(y_train,y_pred_train_abc)*100\n",
    "print(\"test accuracy:\",acc_score_test)\n",
    "print(\"train accuracy:\",acc_score_train)"
   ]
  },
  {
   "cell_type": "markdown",
   "id": "16ef4f54",
   "metadata": {},
   "source": [
    "And yes, we 'squeezed' another .1 in accuracy! We have basically reached our limits based on the course material taught so far, and I am looking forward to the next readings and assignments!"
   ]
  }
 ],
 "metadata": {
  "kernelspec": {
   "display_name": "Python 3 (ipykernel)",
   "language": "python",
   "name": "python3"
  },
  "language_info": {
   "codemirror_mode": {
    "name": "ipython",
    "version": 3
   },
   "file_extension": ".py",
   "mimetype": "text/x-python",
   "name": "python",
   "nbconvert_exporter": "python",
   "pygments_lexer": "ipython3",
   "version": "3.9.7"
  }
 },
 "nbformat": 4,
 "nbformat_minor": 5
}
